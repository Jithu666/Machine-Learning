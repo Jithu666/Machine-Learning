{
 "cells": [
  {
   "cell_type": "markdown",
   "id": "6ba91c50-fed9-4743-b51b-7b476c5255fe",
   "metadata": {},
   "source": [
    "Data Preprocessing"
   ]
  },
  {
   "cell_type": "markdown",
   "id": "a1b021b4-8f35-4496-aeb8-1d33a2da4cd0",
   "metadata": {},
   "source": [
    "Importing the Required Libraries"
   ]
  },
  {
   "cell_type": "code",
   "execution_count": 7,
   "id": "0ce91010-a9de-4249-991c-4af81a660f74",
   "metadata": {},
   "outputs": [],
   "source": [
    "import numpy as np\n",
    "import pandas as pd\n",
    "import matplotlib.pyplot as plt"
   ]
  },
  {
   "cell_type": "markdown",
   "id": "62b9de37-15e0-48c9-8613-21140c0e935e",
   "metadata": {},
   "source": [
    "Import the Dataset"
   ]
  },
  {
   "cell_type": "code",
   "execution_count": 9,
   "id": "cde10734-3a83-4466-a062-fbe23f1ea9a3",
   "metadata": {},
   "outputs": [],
   "source": [
    "dataset = pd.read_csv(\"D:/AIML/Machine Learning/Part 1 - Data Preprocessing/Section 2 Part 1 - Data Preprocessing/Python/Data.csv\")\n",
    "x = dataset.iloc[:, :-1].values\n",
    "y = dataset.iloc[:, -1].values"
   ]
  },
  {
   "cell_type": "markdown",
   "id": "ff21201d-01c1-4700-a256-88f77c406fcf",
   "metadata": {},
   "source": [
    "print the values of 'X'"
   ]
  },
  {
   "cell_type": "markdown",
   "id": "a1462fde-e045-4bfa-98df-9987d3fe4851",
   "metadata": {},
   "source": [
    "print(x)"
   ]
  },
  {
   "cell_type": "markdown",
   "id": "865a1221-1653-40d5-b70b-c141e1063863",
   "metadata": {},
   "source": [
    "Print the Values of 'Y'"
   ]
  },
  {
   "cell_type": "code",
   "execution_count": 13,
   "id": "c17d982b-bce2-4299-9fd5-fded736181b3",
   "metadata": {},
   "outputs": [
    {
     "name": "stdout",
     "output_type": "stream",
     "text": [
      "['No' 'Yes' 'No' 'No' 'Yes' 'Yes' 'No' 'Yes' 'No' 'Yes']\n"
     ]
    }
   ],
   "source": [
    "print(y)"
   ]
  },
  {
   "cell_type": "markdown",
   "id": "2db4ef40-8750-411b-a948-caa491943f10",
   "metadata": {},
   "source": [
    "Data Preprocessing"
   ]
  },
  {
   "cell_type": "markdown",
   "id": "c00bb1bb-2fe5-4d33-a23d-47fa87ff7708",
   "metadata": {},
   "source": [
    "Taking Care of Missing Data"
   ]
  },
  {
   "cell_type": "code",
   "execution_count": 16,
   "id": "5ad710f8-5d67-4371-9d69-f67eb7e219b8",
   "metadata": {},
   "outputs": [],
   "source": [
    "# Import the Required packages for Data Preprocessing\n",
    "\n",
    "# SimpleImputer from SkLearn is required for Data Preprocessing\n",
    "\n",
    "# SimpleImputer is a Class in sklearn.impute module \n",
    "\n",
    "from sklearn.impute import SimpleImputer\n",
    "imputer = SimpleImputer(missing_values=np.nan, strategy='mean')\n",
    "\n",
    "# x[:] // refers to include all the rows in Transformation\n",
    "# x[1:3] // refers to include only the 2nd & 3rd columns only because the 1st column contains \"Categorical Value\" \n",
    "# and we excluded the 4th column because it is a target variable (Which is also a \"Categorical Value\")\n",
    "\n",
    "imputer.fit(x[:, 1:3])\n",
    "x[:, 1:3] = imputer.transform(x[:, 1:3])"
   ]
  },
  {
   "cell_type": "markdown",
   "id": "ce78211a-4c56-4303-a778-17001a4c8b1a",
   "metadata": {},
   "source": [
    "Print the Values in \"x\" to see if null values have been filled with mean values"
   ]
  },
  {
   "cell_type": "code",
   "execution_count": 18,
   "id": "be51de8a-d607-4891-8ce1-8a6d2395fd05",
   "metadata": {},
   "outputs": [
    {
     "name": "stdout",
     "output_type": "stream",
     "text": [
      "[['France' 44.0 72000.0]\n",
      " ['Spain' 27.0 48000.0]\n",
      " ['Germany' 30.0 54000.0]\n",
      " ['Spain' 38.0 61000.0]\n",
      " ['Germany' 40.0 63777.77777777778]\n",
      " ['France' 35.0 58000.0]\n",
      " ['Spain' 38.77777777777778 52000.0]\n",
      " ['France' 48.0 79000.0]\n",
      " ['Germany' 50.0 83000.0]\n",
      " ['France' 37.0 67000.0]]\n"
     ]
    }
   ],
   "source": [
    "print(x)"
   ]
  },
  {
   "cell_type": "markdown",
   "id": "6341c7a7-58c5-45e8-8968-2c97a8abfae2",
   "metadata": {},
   "source": [
    "Encoding categorical Values into Numerical Values"
   ]
  },
  {
   "cell_type": "markdown",
   "id": "42d89762-e5b9-49d6-97c9-13d5285121e8",
   "metadata": {},
   "source": [
    "Encoding the Independent Variable (Feature's)"
   ]
  },
  {
   "cell_type": "code",
   "execution_count": 21,
   "id": "658e7a10-3273-4bb0-864d-b01bc82ef15e",
   "metadata": {},
   "outputs": [],
   "source": [
    "# Import the Classes required for Encoding Categorical Value's\n",
    "\n",
    "from sklearn.compose import ColumnTransformer\n",
    "from sklearn.preprocessing import OneHotEncoder \n",
    "\n",
    "columnTransform = ColumnTransformer(transformers=[('encoder', OneHotEncoder(), [0])], remainder='passthrough')\n",
    "x = np.array(columnTransform.fit_transform(x))"
   ]
  },
  {
   "cell_type": "code",
   "execution_count": 22,
   "id": "2fb8bfb3-2ccb-40dd-a4e4-5ae355b0d111",
   "metadata": {},
   "outputs": [
    {
     "name": "stdout",
     "output_type": "stream",
     "text": [
      "[[1.0 0.0 0.0 44.0 72000.0]\n",
      " [0.0 0.0 1.0 27.0 48000.0]\n",
      " [0.0 1.0 0.0 30.0 54000.0]\n",
      " [0.0 0.0 1.0 38.0 61000.0]\n",
      " [0.0 1.0 0.0 40.0 63777.77777777778]\n",
      " [1.0 0.0 0.0 35.0 58000.0]\n",
      " [0.0 0.0 1.0 38.77777777777778 52000.0]\n",
      " [1.0 0.0 0.0 48.0 79000.0]\n",
      " [0.0 1.0 0.0 50.0 83000.0]\n",
      " [1.0 0.0 0.0 37.0 67000.0]]\n"
     ]
    }
   ],
   "source": [
    "print(x)"
   ]
  },
  {
   "cell_type": "markdown",
   "id": "4a69211a-e255-41d1-8e9a-4de4cf8a940f",
   "metadata": {},
   "source": [
    "Encoding the Dependent Variable (Target Variable) 'y'"
   ]
  },
  {
   "cell_type": "code",
   "execution_count": 33,
   "id": "e8d3928d-e685-4c20-956c-1aa28c64c3eb",
   "metadata": {},
   "outputs": [],
   "source": [
    "from sklearn.preprocessing import LabelEncoder\n",
    "le = LabelEncoder()\n",
    "y = le.fit_transform(y)"
   ]
  },
  {
   "cell_type": "code",
   "execution_count": 35,
   "id": "d34f3dd4-aa2c-43bb-ad8e-e81d802a4c80",
   "metadata": {},
   "outputs": [
    {
     "name": "stdout",
     "output_type": "stream",
     "text": [
      "[0 1 0 0 1 1 0 1 0 1]\n"
     ]
    }
   ],
   "source": [
    "print(y)"
   ]
  },
  {
   "cell_type": "markdown",
   "id": "1b5b5843-142b-4e76-a00c-b3d3b795759a",
   "metadata": {},
   "source": [
    "Splitting the Dataset into Training set and Test Set"
   ]
  },
  {
   "cell_type": "code",
   "execution_count": 42,
   "id": "8414443d-666a-4eaf-8292-7160db9c1ece",
   "metadata": {},
   "outputs": [],
   "source": [
    "# sklearn.model_selection module has a class named train_test_split which is \n",
    "# used to split the dataset.\n",
    "\n",
    "from sklearn.model_selection import train_test_split\n",
    "X_train, X_test, y_train, y_test = train_test_split(x, y, test_size=0.33, \n",
    "                                                    random_state=42)"
   ]
  },
  {
   "cell_type": "code",
   "execution_count": 44,
   "id": "6b588e94-2510-4c5a-8209-039b1904b587",
   "metadata": {},
   "outputs": [
    {
     "name": "stdout",
     "output_type": "stream",
     "text": [
      "[[1.0 0.0 0.0 48.0 79000.0]\n",
      " [0.0 1.0 0.0 30.0 54000.0]\n",
      " [1.0 0.0 0.0 37.0 67000.0]\n",
      " [0.0 1.0 0.0 40.0 63777.77777777778]\n",
      " [0.0 0.0 1.0 38.0 61000.0]\n",
      " [0.0 0.0 1.0 38.77777777777778 52000.0]]\n"
     ]
    }
   ],
   "source": [
    "print(X_train)"
   ]
  },
  {
   "cell_type": "code",
   "execution_count": 46,
   "id": "f4ff5f32-18aa-4e27-a085-57d227e7932b",
   "metadata": {},
   "outputs": [
    {
     "name": "stdout",
     "output_type": "stream",
     "text": [
      "[[0.0 1.0 0.0 50.0 83000.0]\n",
      " [0.0 0.0 1.0 27.0 48000.0]\n",
      " [1.0 0.0 0.0 35.0 58000.0]\n",
      " [1.0 0.0 0.0 44.0 72000.0]]\n"
     ]
    }
   ],
   "source": [
    "print(X_test)"
   ]
  },
  {
   "cell_type": "code",
   "execution_count": 48,
   "id": "8a20f6f5-7902-46b0-a36c-1f1fcae16e10",
   "metadata": {},
   "outputs": [
    {
     "name": "stdout",
     "output_type": "stream",
     "text": [
      "[1 0 1 1 0 0]\n"
     ]
    }
   ],
   "source": [
    "print(y_train)"
   ]
  },
  {
   "cell_type": "code",
   "execution_count": 50,
   "id": "f3436867-178f-4f0d-bbfd-0cad1a4b9a40",
   "metadata": {},
   "outputs": [
    {
     "name": "stdout",
     "output_type": "stream",
     "text": [
      "[0 1 1 0]\n"
     ]
    }
   ],
   "source": [
    "print(y_test)"
   ]
  },
  {
   "cell_type": "markdown",
   "id": "a08f274d-938e-4c40-86d4-9f4bc0e49171",
   "metadata": {},
   "source": [
    "Feature Scaling"
   ]
  },
  {
   "cell_type": "markdown",
   "id": "326cf5cb-4195-4bb4-ad99-678b49b1f578",
   "metadata": {},
   "source": [
    "Feature Sccaling can be done through a class called StandardScalar of the \n",
    "sklearn.preprocessing module"
   ]
  },
  {
   "cell_type": "code",
   "execution_count": 54,
   "id": "a7e8cb10-d5af-4ea1-984f-994b427f7059",
   "metadata": {},
   "outputs": [],
   "source": [
    "from sklearn.preprocessing import StandardScaler\n",
    "sc = StandardScaler()\n",
    "X_train[:, 3:] = sc.fit_transform(X_train[:, 3:])\n",
    "X_test[:, 3:] = sc.transform(X_test[:, 3:])"
   ]
  },
  {
   "cell_type": "code",
   "execution_count": 56,
   "id": "3be724ec-0425-417a-9d50-cecce74ef7d8",
   "metadata": {},
   "outputs": [
    {
     "name": "stdout",
     "output_type": "stream",
     "text": [
      "[[1.0 0.0 0.0 1.7749251497827823 1.8147396179442679]\n",
      " [0.0 1.0 0.0 -1.634614861262403 -0.9851443640268875]\n",
      " [1.0 0.0 0.0 -0.30868263474483093 0.4707953065981133]\n",
      " [0.0 1.0 0.0 0.25957403376269994 0.10992137114405362]\n",
      " [0.0 0.0 1.0 -0.11926374524232065 -0.20117684907496403]\n",
      " [0.0 0.0 1.0 0.028062057704076396 -1.20913508258458]]\n"
     ]
    }
   ],
   "source": [
    "print(X_train)"
   ]
  },
  {
   "cell_type": "code",
   "execution_count": 62,
   "id": "f10fb27d-be76-484a-8fd1-75448763cdb3",
   "metadata": {},
   "outputs": [
    {
     "name": "stdout",
     "output_type": "stream",
     "text": [
      "[[0.0 1.0 0.0 2.153762928787803 2.262721055059653]\n",
      " [0.0 0.0 1.0 -2.2028715297699337 -1.6571165196999649]\n",
      " [1.0 0.0 0.0 -0.6875204137498515 -0.5371629269115027]\n",
      " [1.0 0.0 0.0 1.017249591772741 1.0307721029923445]]\n"
     ]
    }
   ],
   "source": [
    "print(X_test)"
   ]
  },
  {
   "cell_type": "code",
   "execution_count": null,
   "id": "9a677621-2b47-4834-a592-b401e82fb1e4",
   "metadata": {},
   "outputs": [],
   "source": []
  }
 ],
 "metadata": {
  "kernelspec": {
   "display_name": "Python 3 (ipykernel)",
   "language": "python",
   "name": "python3"
  },
  "language_info": {
   "codemirror_mode": {
    "name": "ipython",
    "version": 3
   },
   "file_extension": ".py",
   "mimetype": "text/x-python",
   "name": "python",
   "nbconvert_exporter": "python",
   "pygments_lexer": "ipython3",
   "version": "3.12.7"
  }
 },
 "nbformat": 4,
 "nbformat_minor": 5
}
